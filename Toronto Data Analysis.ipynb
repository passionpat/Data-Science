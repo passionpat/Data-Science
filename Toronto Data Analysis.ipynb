{
    "cells": [
        {
            "metadata": {},
            "cell_type": "code",
            "source": "import requests\nimport pandas as pd\nfrom bs4 import BeautifulSoup",
            "execution_count": 43,
            "outputs": []
        },
        {
            "metadata": {},
            "cell_type": "markdown",
            "source": "The dataframe will consist of three columns: PostalCode, Borough, and Neighborhood <br/>\nOnly process the cells that have an assigned borough. <br/>Ignore cells with a borough that is Not assigned.<br/>\nMore than one neighborhood can exist in one postal code area. <br/>For example, in the table on the Wikipedia page, you will notice that M5A is listed twice and has two neighborhoods: Harbourfront and Regent Park. <br/>These two rows will be combined into one row with the neighborhoods separated with a comma as shown in row 11 in the above table.<br/>\nIf a cell has a borough but a Not assigned neighborhood, then the neighborhood will be the same as the borough.<br/>\nClean your Notebook and add Markdown cells to explain your work and any assumptions you are making.<br/>\nIn the last cell of your notebook, use the .shape method to print the number of rows of your dataframe."
        },
        {
            "metadata": {},
            "cell_type": "code",
            "source": "Postal_url = \"https://en.wikipedia.org/wiki/List_of_postal_codes_of_Canada:_M\"\nwikipedia = requests.get(Postal_url).text",
            "execution_count": 44,
            "outputs": []
        },
        {
            "metadata": {},
            "cell_type": "code",
            "source": "soup = BeautifulSoup(wikipedia, 'xml')\ntable=soup.find('table')\ncolumn_names = ['Postalcode','Borough','Neighborhood']\ndf = pd.DataFrame(columns = column_names)",
            "execution_count": 45,
            "outputs": []
        },
        {
            "metadata": {},
            "cell_type": "code",
            "source": "#generates the table and merges the neighborhoods\n\nfor tr_cell in table.find_all('tr'):\n    row_data=[]\n    for td_cell in tr_cell.find_all('td'):\n        row_data.append(td_cell.text.strip())\n    if len(row_data)==3:\n        df.loc[len(df)] = row_data",
            "execution_count": 46,
            "outputs": []
        },
        {
            "metadata": {},
            "cell_type": "code",
            "source": "df.head()",
            "execution_count": 47,
            "outputs": [
                {
                    "output_type": "execute_result",
                    "execution_count": 47,
                    "data": {
                        "text/plain": "  Postalcode           Borough               Neighborhood\n0        M1A      Not assigned               Not assigned\n1        M2A      Not assigned               Not assigned\n2        M3A        North York                  Parkwoods\n3        M4A        North York           Victoria Village\n4        M5A  Downtown Toronto  Regent Park, Harbourfront",
                        "text/html": "<div>\n<style scoped>\n    .dataframe tbody tr th:only-of-type {\n        vertical-align: middle;\n    }\n\n    .dataframe tbody tr th {\n        vertical-align: top;\n    }\n\n    .dataframe thead th {\n        text-align: right;\n    }\n</style>\n<table border=\"1\" class=\"dataframe\">\n  <thead>\n    <tr style=\"text-align: right;\">\n      <th></th>\n      <th>Postalcode</th>\n      <th>Borough</th>\n      <th>Neighborhood</th>\n    </tr>\n  </thead>\n  <tbody>\n    <tr>\n      <th>0</th>\n      <td>M1A</td>\n      <td>Not assigned</td>\n      <td>Not assigned</td>\n    </tr>\n    <tr>\n      <th>1</th>\n      <td>M2A</td>\n      <td>Not assigned</td>\n      <td>Not assigned</td>\n    </tr>\n    <tr>\n      <th>2</th>\n      <td>M3A</td>\n      <td>North York</td>\n      <td>Parkwoods</td>\n    </tr>\n    <tr>\n      <th>3</th>\n      <td>M4A</td>\n      <td>North York</td>\n      <td>Victoria Village</td>\n    </tr>\n    <tr>\n      <th>4</th>\n      <td>M5A</td>\n      <td>Downtown Toronto</td>\n      <td>Regent Park, Harbourfront</td>\n    </tr>\n  </tbody>\n</table>\n</div>"
                    },
                    "metadata": {}
                }
            ]
        },
        {
            "metadata": {},
            "cell_type": "code",
            "source": "df.clean=df[df['Borough']!='Not assigned']\ndf.clean.head()\n\n#removes the redundant places",
            "execution_count": 48,
            "outputs": [
                {
                    "output_type": "stream",
                    "text": "/opt/conda/envs/Python36/lib/python3.6/site-packages/ipykernel/__main__.py:1: UserWarning: Pandas doesn't allow columns to be created via a new attribute name - see https://pandas.pydata.org/pandas-docs/stable/indexing.html#attribute-access\n  if __name__ == '__main__':\n",
                    "name": "stderr"
                },
                {
                    "output_type": "execute_result",
                    "execution_count": 48,
                    "data": {
                        "text/plain": "  Postalcode           Borough                                 Neighborhood\n2        M3A        North York                                    Parkwoods\n3        M4A        North York                             Victoria Village\n4        M5A  Downtown Toronto                    Regent Park, Harbourfront\n5        M6A        North York             Lawrence Manor, Lawrence Heights\n6        M7A  Downtown Toronto  Queen's Park, Ontario Provincial Government",
                        "text/html": "<div>\n<style scoped>\n    .dataframe tbody tr th:only-of-type {\n        vertical-align: middle;\n    }\n\n    .dataframe tbody tr th {\n        vertical-align: top;\n    }\n\n    .dataframe thead th {\n        text-align: right;\n    }\n</style>\n<table border=\"1\" class=\"dataframe\">\n  <thead>\n    <tr style=\"text-align: right;\">\n      <th></th>\n      <th>Postalcode</th>\n      <th>Borough</th>\n      <th>Neighborhood</th>\n    </tr>\n  </thead>\n  <tbody>\n    <tr>\n      <th>2</th>\n      <td>M3A</td>\n      <td>North York</td>\n      <td>Parkwoods</td>\n    </tr>\n    <tr>\n      <th>3</th>\n      <td>M4A</td>\n      <td>North York</td>\n      <td>Victoria Village</td>\n    </tr>\n    <tr>\n      <th>4</th>\n      <td>M5A</td>\n      <td>Downtown Toronto</td>\n      <td>Regent Park, Harbourfront</td>\n    </tr>\n    <tr>\n      <th>5</th>\n      <td>M6A</td>\n      <td>North York</td>\n      <td>Lawrence Manor, Lawrence Heights</td>\n    </tr>\n    <tr>\n      <th>6</th>\n      <td>M7A</td>\n      <td>Downtown Toronto</td>\n      <td>Queen's Park, Ontario Provincial Government</td>\n    </tr>\n  </tbody>\n</table>\n</div>"
                    },
                    "metadata": {}
                }
            ]
        },
        {
            "metadata": {},
            "cell_type": "code",
            "source": "df.clean.shape",
            "execution_count": 49,
            "outputs": [
                {
                    "output_type": "execute_result",
                    "execution_count": 49,
                    "data": {
                        "text/plain": "(103, 3)"
                    },
                    "metadata": {}
                }
            ]
        },
        {
            "metadata": {},
            "cell_type": "code",
            "source": "def get_geocode(postal_code):\n    # initialize\n    lat_lng_coords = None\n    while(lat_lng_coords is None):\n        g = geocoder.google('{}, Toronto, Ontario'.format(postal_code))\n        lat_lng_coords = g.latlng\n    latitude = lat_lng_coords[0]\n    longitude = lat_lng_coords[1]\n    return latitude,longitude",
            "execution_count": 50,
            "outputs": []
        },
        {
            "metadata": {},
            "cell_type": "code",
            "source": "geospatial=pd.read_csv('http://cocl.us/Geospatial_data')",
            "execution_count": 51,
            "outputs": []
        },
        {
            "metadata": {},
            "cell_type": "code",
            "source": "geospatial.head()",
            "execution_count": 52,
            "outputs": [
                {
                    "output_type": "execute_result",
                    "execution_count": 52,
                    "data": {
                        "text/plain": "  Postal Code   Latitude  Longitude\n0         M1B  43.806686 -79.194353\n1         M1C  43.784535 -79.160497\n2         M1E  43.763573 -79.188711\n3         M1G  43.770992 -79.216917\n4         M1H  43.773136 -79.239476",
                        "text/html": "<div>\n<style scoped>\n    .dataframe tbody tr th:only-of-type {\n        vertical-align: middle;\n    }\n\n    .dataframe tbody tr th {\n        vertical-align: top;\n    }\n\n    .dataframe thead th {\n        text-align: right;\n    }\n</style>\n<table border=\"1\" class=\"dataframe\">\n  <thead>\n    <tr style=\"text-align: right;\">\n      <th></th>\n      <th>Postal Code</th>\n      <th>Latitude</th>\n      <th>Longitude</th>\n    </tr>\n  </thead>\n  <tbody>\n    <tr>\n      <th>0</th>\n      <td>M1B</td>\n      <td>43.806686</td>\n      <td>-79.194353</td>\n    </tr>\n    <tr>\n      <th>1</th>\n      <td>M1C</td>\n      <td>43.784535</td>\n      <td>-79.160497</td>\n    </tr>\n    <tr>\n      <th>2</th>\n      <td>M1E</td>\n      <td>43.763573</td>\n      <td>-79.188711</td>\n    </tr>\n    <tr>\n      <th>3</th>\n      <td>M1G</td>\n      <td>43.770992</td>\n      <td>-79.216917</td>\n    </tr>\n    <tr>\n      <th>4</th>\n      <td>M1H</td>\n      <td>43.773136</td>\n      <td>-79.239476</td>\n    </tr>\n  </tbody>\n</table>\n</div>"
                    },
                    "metadata": {}
                }
            ]
        },
        {
            "metadata": {},
            "cell_type": "code",
            "source": "geospatial.rename(columns={'Postal Code':'Postalcode'},inplace=True)\ngeospatial_complete = pd.merge(geospatial, df.clean, on='Postalcode')",
            "execution_count": 53,
            "outputs": []
        },
        {
            "metadata": {},
            "cell_type": "code",
            "source": "geospatial_complete.head(12)",
            "execution_count": 54,
            "outputs": [
                {
                    "output_type": "execute_result",
                    "execution_count": 54,
                    "data": {
                        "text/plain": "   Postalcode   Latitude  Longitude      Borough  \\\n0         M1B  43.806686 -79.194353  Scarborough   \n1         M1C  43.784535 -79.160497  Scarborough   \n2         M1E  43.763573 -79.188711  Scarborough   \n3         M1G  43.770992 -79.216917  Scarborough   \n4         M1H  43.773136 -79.239476  Scarborough   \n5         M1J  43.744734 -79.239476  Scarborough   \n6         M1K  43.727929 -79.262029  Scarborough   \n7         M1L  43.711112 -79.284577  Scarborough   \n8         M1M  43.716316 -79.239476  Scarborough   \n9         M1N  43.692657 -79.264848  Scarborough   \n10        M1P  43.757410 -79.273304  Scarborough   \n11        M1R  43.750072 -79.295849  Scarborough   \n\n                                         Neighborhood  \n0                                      Malvern, Rouge  \n1              Rouge Hill, Port Union, Highland Creek  \n2                   Guildwood, Morningside, West Hill  \n3                                              Woburn  \n4                                           Cedarbrae  \n5                                 Scarborough Village  \n6         Kennedy Park, Ionview, East Birchmount Park  \n7                     Golden Mile, Clairlea, Oakridge  \n8     Cliffside, Cliffcrest, Scarborough Village West  \n9                         Birch Cliff, Cliffside West  \n10  Dorset Park, Wexford Heights, Scarborough Town...  \n11                                  Wexford, Maryvale  ",
                        "text/html": "<div>\n<style scoped>\n    .dataframe tbody tr th:only-of-type {\n        vertical-align: middle;\n    }\n\n    .dataframe tbody tr th {\n        vertical-align: top;\n    }\n\n    .dataframe thead th {\n        text-align: right;\n    }\n</style>\n<table border=\"1\" class=\"dataframe\">\n  <thead>\n    <tr style=\"text-align: right;\">\n      <th></th>\n      <th>Postalcode</th>\n      <th>Latitude</th>\n      <th>Longitude</th>\n      <th>Borough</th>\n      <th>Neighborhood</th>\n    </tr>\n  </thead>\n  <tbody>\n    <tr>\n      <th>0</th>\n      <td>M1B</td>\n      <td>43.806686</td>\n      <td>-79.194353</td>\n      <td>Scarborough</td>\n      <td>Malvern, Rouge</td>\n    </tr>\n    <tr>\n      <th>1</th>\n      <td>M1C</td>\n      <td>43.784535</td>\n      <td>-79.160497</td>\n      <td>Scarborough</td>\n      <td>Rouge Hill, Port Union, Highland Creek</td>\n    </tr>\n    <tr>\n      <th>2</th>\n      <td>M1E</td>\n      <td>43.763573</td>\n      <td>-79.188711</td>\n      <td>Scarborough</td>\n      <td>Guildwood, Morningside, West Hill</td>\n    </tr>\n    <tr>\n      <th>3</th>\n      <td>M1G</td>\n      <td>43.770992</td>\n      <td>-79.216917</td>\n      <td>Scarborough</td>\n      <td>Woburn</td>\n    </tr>\n    <tr>\n      <th>4</th>\n      <td>M1H</td>\n      <td>43.773136</td>\n      <td>-79.239476</td>\n      <td>Scarborough</td>\n      <td>Cedarbrae</td>\n    </tr>\n    <tr>\n      <th>5</th>\n      <td>M1J</td>\n      <td>43.744734</td>\n      <td>-79.239476</td>\n      <td>Scarborough</td>\n      <td>Scarborough Village</td>\n    </tr>\n    <tr>\n      <th>6</th>\n      <td>M1K</td>\n      <td>43.727929</td>\n      <td>-79.262029</td>\n      <td>Scarborough</td>\n      <td>Kennedy Park, Ionview, East Birchmount Park</td>\n    </tr>\n    <tr>\n      <th>7</th>\n      <td>M1L</td>\n      <td>43.711112</td>\n      <td>-79.284577</td>\n      <td>Scarborough</td>\n      <td>Golden Mile, Clairlea, Oakridge</td>\n    </tr>\n    <tr>\n      <th>8</th>\n      <td>M1M</td>\n      <td>43.716316</td>\n      <td>-79.239476</td>\n      <td>Scarborough</td>\n      <td>Cliffside, Cliffcrest, Scarborough Village West</td>\n    </tr>\n    <tr>\n      <th>9</th>\n      <td>M1N</td>\n      <td>43.692657</td>\n      <td>-79.264848</td>\n      <td>Scarborough</td>\n      <td>Birch Cliff, Cliffside West</td>\n    </tr>\n    <tr>\n      <th>10</th>\n      <td>M1P</td>\n      <td>43.757410</td>\n      <td>-79.273304</td>\n      <td>Scarborough</td>\n      <td>Dorset Park, Wexford Heights, Scarborough Town...</td>\n    </tr>\n    <tr>\n      <th>11</th>\n      <td>M1R</td>\n      <td>43.750072</td>\n      <td>-79.295849</td>\n      <td>Scarborough</td>\n      <td>Wexford, Maryvale</td>\n    </tr>\n  </tbody>\n</table>\n</div>"
                    },
                    "metadata": {}
                }
            ]
        },
        {
            "metadata": {},
            "cell_type": "code",
            "source": "CLIENT_ID = 'RNQWSRTVPJ3HAS25IDONRKILGW3SQCFJTIF31CRB00UHEUSY' # your Foursquare ID\nCLIENT_SECRET = 'ZTEXB1IE452F41LTXPIOFLJJ05TPX1Q5HVLEUDRTKNDW22SV' # your Foursquare Secret\nVERSION = '20200101'",
            "execution_count": 55,
            "outputs": []
        },
        {
            "metadata": {},
            "cell_type": "code",
            "source": "def getNearbyVenues(names, latitudes, longitudes):\n    radius=500\n    LIMIT=100\n    venues_list=[]\n    for name, lat, lng in zip(names, latitudes, longitudes):\n        print(name)\n            \n        # create the API request URL\n        url = 'https://api.foursquare.com/v2/venues/explore?&client_id={}&client_secret={}&v={}&ll={},{}&radius={}&limit={}'.format(\n            CLIENT_ID, \n            CLIENT_SECRET, \n            VERSION, \n            lat, \n            lng, \n            radius, \n            LIMIT)\n            \n        # make the GET request\n        results = requests.get(url).json()[\"response\"]['groups'][0]['items']\n        \n        # return only relevant information for each nearby venue\n        venues_list.append([(\n            name, \n            lat, \n            lng, \n            v['venue']['name'], \n            v['venue']['location']['lat'], \n            v['venue']['location']['lng'],  \n            v['venue']['categories'][0]['name']) for v in results])\n\n    nearby_venues = pd.DataFrame([item for venue_list in venues_list for item in venue_list])\n    nearby_venues.columns = ['Neighborhood', \n                  'Neighborhood Latitude', \n                  'Neighborhood Longitude', \n                  'Venue', \n                  'Venue Latitude', \n                  'Venue Longitude', \n                  'Venue Category']\n    \n    return(nearby_venues)",
            "execution_count": 56,
            "outputs": []
        },
        {
            "metadata": {},
            "cell_type": "code",
            "source": "toronto_ven = getNearbyVenues(names=geospatial_complete['Neighborhood'],\n                                   latitudes=geospatial_complete['Latitude'],\n                                   longitudes=geospatial_complete['Longitude'])",
            "execution_count": 58,
            "outputs": [
                {
                    "output_type": "stream",
                    "text": "Malvern, Rouge\nRouge Hill, Port Union, Highland Creek\nGuildwood, Morningside, West Hill\nWoburn\nCedarbrae\nScarborough Village\nKennedy Park, Ionview, East Birchmount Park\nGolden Mile, Clairlea, Oakridge\nCliffside, Cliffcrest, Scarborough Village West\nBirch Cliff, Cliffside West\nDorset Park, Wexford Heights, Scarborough Town Centre\nWexford, Maryvale\nAgincourt\nClarks Corners, Tam O'Shanter, Sullivan\nMilliken, Agincourt North, Steeles East, L'Amoreaux East\nSteeles West, L'Amoreaux West\nUpper Rouge\nHillcrest Village\nFairview, Henry Farm, Oriole\nBayview Village\nYork Mills, Silver Hills\nWillowdale, Newtonbrook\nWillowdale, Willowdale East\nYork Mills West\nWillowdale, Willowdale West\nParkwoods\nDon Mills\nDon Mills\nBathurst Manor, Wilson Heights, Downsview North\nNorthwood Park, York University\nDownsview\nDownsview\nDownsview\nDownsview\nVictoria Village\nParkview Hill, Woodbine Gardens\nWoodbine Heights\nThe Beaches\nLeaside\nThorncliffe Park\nEast Toronto, Broadview North (Old East York)\nThe Danforth West, Riverdale\nIndia Bazaar, The Beaches West\nStudio District\nLawrence Park\nDavisville North\nNorth Toronto West,  Lawrence Park\nDavisville\nMoore Park, Summerhill East\nSummerhill West, Rathnelly, South Hill, Forest Hill SE, Deer Park\nRosedale\nSt. James Town, Cabbagetown\nChurch and Wellesley\nRegent Park, Harbourfront\nGarden District, Ryerson\nSt. James Town\nBerczy Park\nCentral Bay Street\nRichmond, Adelaide, King\nHarbourfront East, Union Station, Toronto Islands\nToronto Dominion Centre, Design Exchange\nCommerce Court, Victoria Hotel\nBedford Park, Lawrence Manor East\nRoselawn\nForest Hill North & West, Forest Hill Road Park\nThe Annex, North Midtown, Yorkville\nUniversity of Toronto, Harbord\nKensington Market, Chinatown, Grange Park\nCN Tower, King and Spadina, Railway Lands, Harbourfront West, Bathurst Quay, South Niagara, Island airport\nStn A PO Boxes\nFirst Canadian Place, Underground city\nLawrence Manor, Lawrence Heights\nGlencairn\nHumewood-Cedarvale\nCaledonia-Fairbanks\nChristie\nDufferin, Dovercourt Village\nLittle Portugal, Trinity\nBrockton, Parkdale Village, Exhibition Place\nNorth Park, Maple Leaf Park, Upwood Park\nDel Ray, Mount Dennis, Keelsdale and Silverthorn\nRunnymede, The Junction North\nHigh Park, The Junction South\nParkdale, Roncesvalles\nRunnymede, Swansea\nQueen's Park, Ontario Provincial Government\nCanada Post Gateway Processing Centre\nBusiness reply mail Processing Centre, South Central Letter Processing Plant Toronto\nNew Toronto, Mimico South, Humber Bay Shores\nAlderwood, Long Branch\nThe Kingsway, Montgomery Road, Old Mill North\nOld Mill South, King's Mill Park, Sunnylea, Humber Bay, Mimico NE, The Queensway East, Royal York South East, Kingsway Park South East\nMimico NW, The Queensway West, South of Bloor, Kingsway Park South West, Royal York South West\nIslington Avenue, Humber Valley Village\nWest Deane Park, Princess Gardens, Martin Grove, Islington, Cloverdale\nEringate, Bloordale Gardens, Old Burnhamthorpe, Markland Wood\nHumber Summit\nHumberlea, Emery\nWeston\nWestmount\nKingsview Village, St. Phillips, Martin Grove Gardens, Richview Gardens\nSouth Steeles, Silverstone, Humbergate, Jamestown, Mount Olive, Beaumond Heights, Thistletown, Albion Gardens\nNorthwest, West Humber - Clairville\n",
                    "name": "stdout"
                }
            ]
        },
        {
            "metadata": {},
            "cell_type": "code",
            "source": "toronto_ven.head(10)",
            "execution_count": 59,
            "outputs": [
                {
                    "output_type": "execute_result",
                    "execution_count": 59,
                    "data": {
                        "text/plain": "                             Neighborhood  Neighborhood Latitude  \\\n0                          Malvern, Rouge              43.806686   \n1  Rouge Hill, Port Union, Highland Creek              43.784535   \n2  Rouge Hill, Port Union, Highland Creek              43.784535   \n3       Guildwood, Morningside, West Hill              43.763573   \n4       Guildwood, Morningside, West Hill              43.763573   \n5       Guildwood, Morningside, West Hill              43.763573   \n6       Guildwood, Morningside, West Hill              43.763573   \n7       Guildwood, Morningside, West Hill              43.763573   \n8       Guildwood, Morningside, West Hill              43.763573   \n9       Guildwood, Morningside, West Hill              43.763573   \n\n   Neighborhood Longitude                           Venue  Venue Latitude  \\\n0              -79.194353                         Wendy\u2019s       43.807448   \n1              -79.160497           Royal Canadian Legion       43.782533   \n2              -79.160497  Scarborough Historical Society       43.788755   \n3              -79.188711                  RBC Royal Bank       43.766790   \n4              -79.188711               G & G Electronics       43.765309   \n5              -79.188711                Big Bite Burrito       43.766299   \n6              -79.188711           Enterprise Rent-A-Car       43.764076   \n7              -79.188711           Woburn Medical Centre       43.766631   \n8              -79.188711    Lawrence Ave E & Kingston Rd       43.767704   \n9              -79.188711                        Eggsmart       43.767800   \n\n   Venue Longitude        Venue Category  \n0       -79.199056  Fast Food Restaurant  \n1       -79.163085                   Bar  \n2       -79.162438        History Museum  \n3       -79.191151                  Bank  \n4       -79.191537     Electronics Store  \n5       -79.190720    Mexican Restaurant  \n6       -79.193406   Rental Car Location  \n7       -79.192286        Medical Center  \n8       -79.189490          Intersection  \n9       -79.190466        Breakfast Spot  ",
                        "text/html": "<div>\n<style scoped>\n    .dataframe tbody tr th:only-of-type {\n        vertical-align: middle;\n    }\n\n    .dataframe tbody tr th {\n        vertical-align: top;\n    }\n\n    .dataframe thead th {\n        text-align: right;\n    }\n</style>\n<table border=\"1\" class=\"dataframe\">\n  <thead>\n    <tr style=\"text-align: right;\">\n      <th></th>\n      <th>Neighborhood</th>\n      <th>Neighborhood Latitude</th>\n      <th>Neighborhood Longitude</th>\n      <th>Venue</th>\n      <th>Venue Latitude</th>\n      <th>Venue Longitude</th>\n      <th>Venue Category</th>\n    </tr>\n  </thead>\n  <tbody>\n    <tr>\n      <th>0</th>\n      <td>Malvern, Rouge</td>\n      <td>43.806686</td>\n      <td>-79.194353</td>\n      <td>Wendy\u2019s</td>\n      <td>43.807448</td>\n      <td>-79.199056</td>\n      <td>Fast Food Restaurant</td>\n    </tr>\n    <tr>\n      <th>1</th>\n      <td>Rouge Hill, Port Union, Highland Creek</td>\n      <td>43.784535</td>\n      <td>-79.160497</td>\n      <td>Royal Canadian Legion</td>\n      <td>43.782533</td>\n      <td>-79.163085</td>\n      <td>Bar</td>\n    </tr>\n    <tr>\n      <th>2</th>\n      <td>Rouge Hill, Port Union, Highland Creek</td>\n      <td>43.784535</td>\n      <td>-79.160497</td>\n      <td>Scarborough Historical Society</td>\n      <td>43.788755</td>\n      <td>-79.162438</td>\n      <td>History Museum</td>\n    </tr>\n    <tr>\n      <th>3</th>\n      <td>Guildwood, Morningside, West Hill</td>\n      <td>43.763573</td>\n      <td>-79.188711</td>\n      <td>RBC Royal Bank</td>\n      <td>43.766790</td>\n      <td>-79.191151</td>\n      <td>Bank</td>\n    </tr>\n    <tr>\n      <th>4</th>\n      <td>Guildwood, Morningside, West Hill</td>\n      <td>43.763573</td>\n      <td>-79.188711</td>\n      <td>G &amp; G Electronics</td>\n      <td>43.765309</td>\n      <td>-79.191537</td>\n      <td>Electronics Store</td>\n    </tr>\n    <tr>\n      <th>5</th>\n      <td>Guildwood, Morningside, West Hill</td>\n      <td>43.763573</td>\n      <td>-79.188711</td>\n      <td>Big Bite Burrito</td>\n      <td>43.766299</td>\n      <td>-79.190720</td>\n      <td>Mexican Restaurant</td>\n    </tr>\n    <tr>\n      <th>6</th>\n      <td>Guildwood, Morningside, West Hill</td>\n      <td>43.763573</td>\n      <td>-79.188711</td>\n      <td>Enterprise Rent-A-Car</td>\n      <td>43.764076</td>\n      <td>-79.193406</td>\n      <td>Rental Car Location</td>\n    </tr>\n    <tr>\n      <th>7</th>\n      <td>Guildwood, Morningside, West Hill</td>\n      <td>43.763573</td>\n      <td>-79.188711</td>\n      <td>Woburn Medical Centre</td>\n      <td>43.766631</td>\n      <td>-79.192286</td>\n      <td>Medical Center</td>\n    </tr>\n    <tr>\n      <th>8</th>\n      <td>Guildwood, Morningside, West Hill</td>\n      <td>43.763573</td>\n      <td>-79.188711</td>\n      <td>Lawrence Ave E &amp; Kingston Rd</td>\n      <td>43.767704</td>\n      <td>-79.189490</td>\n      <td>Intersection</td>\n    </tr>\n    <tr>\n      <th>9</th>\n      <td>Guildwood, Morningside, West Hill</td>\n      <td>43.763573</td>\n      <td>-79.188711</td>\n      <td>Eggsmart</td>\n      <td>43.767800</td>\n      <td>-79.190466</td>\n      <td>Breakfast Spot</td>\n    </tr>\n  </tbody>\n</table>\n</div>"
                    },
                    "metadata": {}
                }
            ]
        },
        {
            "metadata": {},
            "cell_type": "code",
            "source": "toronto_hosp = toronto_ven['Venue Category']=='Medical Center'\n# filter rows\ntoronto_med = toronto_ven[toronto_hosp]\nprint(toronto_med.shape)\ntoronto_med.head()",
            "execution_count": 60,
            "outputs": [
                {
                    "output_type": "stream",
                    "text": "(1, 7)\n",
                    "name": "stdout"
                },
                {
                    "output_type": "execute_result",
                    "execution_count": 60,
                    "data": {
                        "text/plain": "                        Neighborhood  Neighborhood Latitude  \\\n7  Guildwood, Morningside, West Hill              43.763573   \n\n   Neighborhood Longitude                  Venue  Venue Latitude  \\\n7              -79.188711  Woburn Medical Centre       43.766631   \n\n   Venue Longitude  Venue Category  \n7       -79.192286  Medical Center  ",
                        "text/html": "<div>\n<style scoped>\n    .dataframe tbody tr th:only-of-type {\n        vertical-align: middle;\n    }\n\n    .dataframe tbody tr th {\n        vertical-align: top;\n    }\n\n    .dataframe thead th {\n        text-align: right;\n    }\n</style>\n<table border=\"1\" class=\"dataframe\">\n  <thead>\n    <tr style=\"text-align: right;\">\n      <th></th>\n      <th>Neighborhood</th>\n      <th>Neighborhood Latitude</th>\n      <th>Neighborhood Longitude</th>\n      <th>Venue</th>\n      <th>Venue Latitude</th>\n      <th>Venue Longitude</th>\n      <th>Venue Category</th>\n    </tr>\n  </thead>\n  <tbody>\n    <tr>\n      <th>7</th>\n      <td>Guildwood, Morningside, West Hill</td>\n      <td>43.763573</td>\n      <td>-79.188711</td>\n      <td>Woburn Medical Centre</td>\n      <td>43.766631</td>\n      <td>-79.192286</td>\n      <td>Medical Center</td>\n    </tr>\n  </tbody>\n</table>\n</div>"
                    },
                    "metadata": {}
                }
            ]
        },
        {
            "metadata": {},
            "cell_type": "code",
            "source": "! pip install --user geocoder\nimport geocoder\nfrom geopy.geocoders import Nominatim",
            "execution_count": 61,
            "outputs": [
                {
                    "output_type": "stream",
                    "text": "Requirement already satisfied: geocoder in /home/dsxuser/.local/lib/python3.6/site-packages (1.38.1)\nRequirement already satisfied: click in /opt/conda/envs/Python36/lib/python3.6/site-packages (from geocoder) (7.0)\nRequirement already satisfied: six in /opt/conda/envs/Python36/lib/python3.6/site-packages (from geocoder) (1.12.0)\nRequirement already satisfied: requests in /opt/conda/envs/Python36/lib/python3.6/site-packages (from geocoder) (2.21.0)\nRequirement already satisfied: ratelim in /home/dsxuser/.local/lib/python3.6/site-packages (from geocoder) (0.1.6)\nRequirement already satisfied: future in /opt/conda/envs/Python36/lib/python3.6/site-packages (from geocoder) (0.17.1)\nRequirement already satisfied: certifi>=2017.4.17 in /opt/conda/envs/Python36/lib/python3.6/site-packages (from requests->geocoder) (2020.4.5.1)\nRequirement already satisfied: idna<2.9,>=2.5 in /opt/conda/envs/Python36/lib/python3.6/site-packages (from requests->geocoder) (2.8)\nRequirement already satisfied: chardet<3.1.0,>=3.0.2 in /opt/conda/envs/Python36/lib/python3.6/site-packages (from requests->geocoder) (3.0.4)\nRequirement already satisfied: urllib3<1.25,>=1.21.1 in /opt/conda/envs/Python36/lib/python3.6/site-packages (from requests->geocoder) (1.24.1)\nRequirement already satisfied: decorator in /opt/conda/envs/Python36/lib/python3.6/site-packages (from ratelim->geocoder) (4.3.2)\n",
                    "name": "stdout"
                }
            ]
        },
        {
            "metadata": {},
            "cell_type": "code",
            "source": "import matplotlib.cm as cm\nimport matplotlib.colors as colors\n!pip install folium \nimport folium\nfrom geopy.geocoders import Nominatim\n\nm = folium.Map(\n    location=[43.6532,-79.3832],\n    zoom_start=11,\n    tiles='Stamen Terrain'\n)\n\ntooltip = 'Click me!'\n\nfolium.Marker([43.763573, -79.188711], popup='<i>Woburn Medical Center</i>', tooltip=tooltip).add_to(m)",
            "execution_count": 81,
            "outputs": [
                {
                    "output_type": "stream",
                    "text": "Requirement already satisfied: folium in /opt/conda/envs/Python36/lib/python3.6/site-packages (0.11.0)\nRequirement already satisfied: jinja2>=2.9 in /opt/conda/envs/Python36/lib/python3.6/site-packages (from folium) (2.10)\nRequirement already satisfied: requests in /opt/conda/envs/Python36/lib/python3.6/site-packages (from folium) (2.21.0)\nRequirement already satisfied: numpy in /opt/conda/envs/Python36/lib/python3.6/site-packages (from folium) (1.15.4)\nRequirement already satisfied: branca>=0.3.0 in /opt/conda/envs/Python36/lib/python3.6/site-packages (from folium) (0.4.1)\nRequirement already satisfied: MarkupSafe>=0.23 in /opt/conda/envs/Python36/lib/python3.6/site-packages (from jinja2>=2.9->folium) (1.1.0)\nRequirement already satisfied: idna<2.9,>=2.5 in /opt/conda/envs/Python36/lib/python3.6/site-packages (from requests->folium) (2.8)\nRequirement already satisfied: urllib3<1.25,>=1.21.1 in /opt/conda/envs/Python36/lib/python3.6/site-packages (from requests->folium) (1.24.1)\nRequirement already satisfied: chardet<3.1.0,>=3.0.2 in /opt/conda/envs/Python36/lib/python3.6/site-packages (from requests->folium) (3.0.4)\nRequirement already satisfied: certifi>=2017.4.17 in /opt/conda/envs/Python36/lib/python3.6/site-packages (from requests->folium) (2020.4.5.1)\n",
                    "name": "stdout"
                },
                {
                    "output_type": "execute_result",
                    "execution_count": 81,
                    "data": {
                        "text/plain": "<folium.map.Marker at 0x7f40b6806390>"
                    },
                    "metadata": {}
                }
            ]
        },
        {
            "metadata": {},
            "cell_type": "code",
            "source": "folium.Marker([43.713051, -79.459549], popup='<i>Birth Control and Sexual Health Centre</i>', tooltip=tooltip).add_to(m)\nfolium.Marker([43.735010, -79.512010], popup='<i>Black Creek Community Health Centre (North York Sheridan Mall, Unit 5)</i>', tooltip=tooltip).add_to(m)\nfolium.Marker([43.656730, -79.452270], popup='<i>Crossways Clinic</i>', tooltip=tooltip).add_to(m)\nm\n# https://www.toronto.ca/community-people/health-wellness-care/health-clinics/sexual-health-clinics/ map of clinics",
            "execution_count": 84,
            "outputs": [
                {
                    "output_type": "execute_result",
                    "execution_count": 84,
                    "data": {
                        "text/plain": "<folium.folium.Map at 0x7f40b68066a0>",
                        "text/html": "<div style=\"width:100%;\"><div style=\"position:relative;width:100%;height:0;padding-bottom:60%;\"><span style=\"color:#565656\">Make this Notebook Trusted to load map: File -> Trust Notebook</span><iframe src=\"about:blank\" style=\"position:absolute;width:100%;height:100%;left:0;top:0;border:none !important;\" data-html=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 onload=\"this.contentDocument.open();this.contentDocument.write(atob(this.getAttribute('data-html')));this.contentDocument.close();\" allowfullscreen webkitallowfullscreen mozallowfullscreen></iframe></div></div>"
                    },
                    "metadata": {}
                }
            ]
        }
    ],
    "metadata": {
        "kernelspec": {
            "name": "python3",
            "display_name": "Python 3.6",
            "language": "python"
        },
        "language_info": {
            "name": "python",
            "version": "3.6.9",
            "mimetype": "text/x-python",
            "codemirror_mode": {
                "name": "ipython",
                "version": 3
            },
            "pygments_lexer": "ipython3",
            "nbconvert_exporter": "python",
            "file_extension": ".py"
        }
    },
    "nbformat": 4,
    "nbformat_minor": 1
}