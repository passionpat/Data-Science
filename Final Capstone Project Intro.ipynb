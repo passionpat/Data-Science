{
    "cells": [
        {
            "cell_type": "markdown",
            "metadata": {},
            "source": "# Description of the Problem and Discussion of the Background"
        },
        {
            "cell_type": "markdown",
            "metadata": {},
            "source": "The problem will be if a person wants to open a low-income sexual health clinic in the city of Toronto. There may be a lack of low-income sexual health clinics in certain areas of Toronto. It is important to have more sexual health clinics in order to reduce the chance for unintended pregnancies and sexually transmitted diseases. Additionally, for low-income communities, they are more adversely impacted by a lack of sexual health clinics in their area. Nearby health clinics are essential for anyone wanting to get access to care. \n\n<br/> City inhabitants may benefit from an increase in the amount of avaialble health clinics. The major question will ask: in Toronto, where should someone open their low-income sexual health clinic?"
        },
        {
            "cell_type": "markdown",
            "metadata": {},
            "source": "# Description of the Data and how it will solve the problem"
        },
        {
            "cell_type": "markdown",
            "metadata": {},
            "source": "The important data for this problem will be the following: <br/>\n- Latitude and longitude of neighborhoods in Toronto\n- Health Clinic data and locations to identify gap areas for opening. <br/>\nIn order to collect the data, we must search public repositories such as Foursquare and Wikipedia for the details of Health Clinics in Toronto. <br/> <br/>\nThe data collected will help us move forward with the best place to open."
        },
        {
            "cell_type": "code",
            "execution_count": null,
            "metadata": {},
            "outputs": [],
            "source": ""
        }
    ],
    "metadata": {
        "kernelspec": {
            "display_name": "Python 3.6",
            "language": "python",
            "name": "python3"
        },
        "language_info": {
            "codemirror_mode": {
                "name": "ipython",
                "version": 3
            },
            "file_extension": ".py",
            "mimetype": "text/x-python",
            "name": "python",
            "nbconvert_exporter": "python",
            "pygments_lexer": "ipython3",
            "version": "3.6.9"
        }
    },
    "nbformat": 4,
    "nbformat_minor": 1
}