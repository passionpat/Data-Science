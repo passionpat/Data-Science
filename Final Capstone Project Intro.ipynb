{
    "cells": [
        {
            "cell_type": "code",
            "execution_count": null,
            "metadata": {
                "collapsed": true
            },
            "outputs": [],
            "source": "A description of the problem and a discussion of the background. (15 marks)\nA description of the data and how it will be used to solve the problem. (15 marks)\nIn a city of your choice, if someone is looking to open a restaurant, where would you recommend that they open it? Similarly, if a contractor is trying to start their own business, where would you recommend that they setup their office?\n"
        },
        {
            "cell_type": "markdown",
            "metadata": {},
            "source": "# Description of the Problem and Discussion of the Background"
        },
        {
            "cell_type": "markdown",
            "metadata": {},
            "source": "The problem will be if a person wants to open a health clinic in the city of Toronto. There may be a lack of health clinics in certain areas of Toronto. City inhabitants may benefit from an increase in the amount of avaialble health clinics. In Toronto, where should someone open their health clinic?"
        },
        {
            "cell_type": "markdown",
            "metadata": {},
            "source": "# Description of the Data and how it will solve the problem"
        },
        {
            "cell_type": "markdown",
            "metadata": {},
            "source": "The important data for this problem will be the following: <br/>\n- Latitude and longitude of neighborhoods in Toronto\n- Health Clinic data and locations to identify gap areas for opening. <br/>\nIn order to collect the data, we must "
        },
        {
            "cell_type": "code",
            "execution_count": null,
            "metadata": {},
            "outputs": [],
            "source": ""
        }
    ],
    "metadata": {
        "kernelspec": {
            "display_name": "Python 3.6",
            "language": "python",
            "name": "python3"
        },
        "language_info": {
            "codemirror_mode": {
                "name": "ipython",
                "version": 3
            },
            "file_extension": ".py",
            "mimetype": "text/x-python",
            "name": "python",
            "nbconvert_exporter": "python",
            "pygments_lexer": "ipython3",
            "version": "3.6.9"
        }
    },
    "nbformat": 4,
    "nbformat_minor": 1
}